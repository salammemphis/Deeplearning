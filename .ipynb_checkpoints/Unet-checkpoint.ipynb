{
 "cells": [
  {
   "cell_type": "code",
   "execution_count": 15,
   "metadata": {},
   "outputs": [],
   "source": [
    "from tensorflow.keras.layers import Conv3D, Dense, MaxPool3D,Dropout, UpSampling3D, BatchNormalization\n",
    "from tensorflow.keras.models import Sequential\n"
   ]
  },
  {
   "cell_type": "code",
   "execution_count": 16,
   "metadata": {},
   "outputs": [],
   "source": [
    "input =(448,448,48,1)\n",
    "\n",
    "def conv_block(x, nfilter):\n",
    "    x=Conv3D(nfilter,(3,3,3), padding=\"same\")(x)\n",
    "    x=BatchNormalization()(x)\n",
    "    x=Activation(\"relu\")(x)\n",
    "    x=Conv3D(nfilter,(3,3,3), padding=\"same\")(x)\n",
    "    x=BatchNormalization()(x)\n",
    "    x=Activation(\"relu\")(x)\n",
    "    return x\n",
    "    \n",
    "def upsample_block(x, nfilter, skip_connection):\n",
    "    x=Conv3DTranspose(filters, (3,3,3), padding=\"same\")(x)\n",
    "    x=BatchNormalization()(x)\n",
    "    x=Activation(\"relu\")(x)\n",
    "    x=Conv3DTranspose(filters, (3,3,3), padding=\"same\")(x)\n",
    "    x=BatchNormalization()(x)\n",
    "    x=Activation(\"relu\")(x)\n",
    "    x = layers.UpSampling3D(2)(x)\n",
    "    return x\n",
    "#encoder\n",
    "x=conv_block(input,16)\n",
    "skip=[]\n",
    "for filters in [32,64,128]:\n",
    "    x=conv_block(input,filters)(x)\n",
    "    skip.append(x)\n",
    "    x = layers.MaxPooling2D(3, strides=2, padding=\"same\")(x)\n",
    "    \n",
    "\n",
    "#decoder\n",
    "i=len(skip)-1\n",
    "for filters in [128,64,32,16]:\n",
    "    x=upsample_block(x,)\n",
    "    x=add([x,skip[i]])\n"
   ]
  },
  {
   "cell_type": "code",
   "execution_count": 20,
   "metadata": {},
   "outputs": [
    {
     "name": "stdout",
     "output_type": "stream",
     "text": [
      "(2, 1, 2, 1, 3)\n",
      "(2, 2, 4, 2, 3)\n"
     ]
    }
   ],
   "source": [
    "import tensorflow as tf\n",
    "input_shape = (2, 1, 2, 1, 3)\n",
    "x = tf.constant(1, shape=input_shape)\n",
    "y = tf.keras.layers.UpSampling3D(size=(2)(x)\n",
    "print(x.shape)\n",
    "print(y.shape)"
   ]
  },
  {
   "cell_type": "code",
   "execution_count": null,
   "metadata": {},
   "outputs": [],
   "source": []
  }
 ],
 "metadata": {
  "kernelspec": {
   "display_name": "Python 3",
   "language": "python",
   "name": "python3"
  },
  "language_info": {
   "codemirror_mode": {
    "name": "ipython",
    "version": 3
   },
   "file_extension": ".py",
   "mimetype": "text/x-python",
   "name": "python",
   "nbconvert_exporter": "python",
   "pygments_lexer": "ipython3",
   "version": "3.6.8"
  }
 },
 "nbformat": 4,
 "nbformat_minor": 2
}
