{
 "cells": [
  {
   "cell_type": "markdown",
   "metadata": {},
   "source": [
    "Back Propagation using Computational Graph-- Just a conceptual implementation\n",
    "===\n",
    "\n",
    "Assume you have two inputs (x1, x2) and one hidden layer and sigmoid activation function. \n",
    "\n",
    "s=x1*w1+x2*w2\n",
    "\n",
    "z=s+b\n",
    "\n",
    "f=1/(1+e-z)\n",
    "\n",
    "Backpropagation (Chain Rule)\n",
    "========================\n",
    "\n",
    "df/df=1, \n",
    "\n",
    "df/dz=(1-f)*f,\n",
    "\n",
    "df/db=dz/db(Local gradient)*df/dz(upstream gradient)=1*df/dz\n",
    "\n",
    "df/ds=dz/ds*df/dz=1*df/dz\n",
    "\n",
    "df/dw1=ds/dw1*df/ds\n",
    "\n"
   ]
  },
  {
   "cell_type": "code",
   "execution_count": 6,
   "metadata": {},
   "outputs": [],
   "source": [
    "def forwardpass(x1, w1, x2,w2,b):\n",
    "    m1=x1*w1\n",
    "    m2=x2*w2\n",
    "    s=m1+m2\n",
    "    z=s+b\n",
    "    f=1/(1+exp(-1*z))\n",
    "    \n",
    "#\n",
    "def backPass(gradloss,f):\n",
    "    dz=gradloss*(1-f)*f\n",
    "    db=dz\n",
    "    ds=dz\n",
    "    dm1=s*m2\n",
    "    dm2=s*m1\n",
    "    dw2=dm2*x2\n",
    "    dw1=dm1*x1\n",
    "    dx1=dm1*w1\n",
    "    dx2=dm2*w2"
   ]
  },
  {
   "cell_type": "code",
   "execution_count": null,
   "metadata": {},
   "outputs": [],
   "source": []
  }
 ],
 "metadata": {
  "kernelspec": {
   "display_name": "Python 3",
   "language": "python",
   "name": "python3"
  },
  "language_info": {
   "codemirror_mode": {
    "name": "ipython",
    "version": 3
   },
   "file_extension": ".py",
   "mimetype": "text/x-python",
   "name": "python",
   "nbconvert_exporter": "python",
   "pygments_lexer": "ipython3",
   "version": "3.6.8"
  }
 },
 "nbformat": 4,
 "nbformat_minor": 2
}
